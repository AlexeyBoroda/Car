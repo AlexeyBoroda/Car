{
 "cells": [
  {
   "cell_type": "code",
   "execution_count": 20,
   "metadata": {},
   "outputs": [],
   "source": [
    "#Variable\t- Definition - \tKey\n",
    "#survival\t- Выживший - \t0 = No, 1 = Yes\n",
    "#pclass\t- Класс билета -\t1 = 1st, 2 = 2nd, 3 = 3rd\n",
    "#sex\t- Пол\t\n",
    "#Age\t- Возраст в годах\t\n",
    "#sibsp\t-  братья и сестры / супруги на борту \"Титаника\t\n",
    "#parch\t-  родителей/детей на борту \"Титаника\n",
    "#ticket\t- номер билете\t\n",
    "#fare\t- Пассажирский тариф\t\n",
    "#cabin\t- Номер каюты\t\n",
    "#embarked - \tПорт высадки\tC = Cherbourg, Q = Queenstown, S = Southampton"
   ]
  },
  {
   "cell_type": "code",
   "execution_count": null,
   "metadata": {},
   "outputs": [],
   "source": []
  },
  {
   "cell_type": "code",
   "execution_count": 21,
   "metadata": {},
   "outputs": [
    {
     "name": "stdout",
     "output_type": "stream",
     "text": [
      "<class 'pandas.core.frame.DataFrame'>\n",
      "RangeIndex: 891 entries, 0 to 890\n",
      "Data columns (total 12 columns):\n",
      " #   Column       Non-Null Count  Dtype  \n",
      "---  ------       --------------  -----  \n",
      " 0   PassengerId  891 non-null    int64  \n",
      " 1   Survived     891 non-null    int64  \n",
      " 2   Pclass       891 non-null    int64  \n",
      " 3   Name         891 non-null    object \n",
      " 4   Sex          891 non-null    object \n",
      " 5   Age          714 non-null    float64\n",
      " 6   SibSp        891 non-null    int64  \n",
      " 7   Parch        891 non-null    int64  \n",
      " 8   Ticket       891 non-null    object \n",
      " 9   Fare         891 non-null    float64\n",
      " 10  Cabin        204 non-null    object \n",
      " 11  Embarked     889 non-null    object \n",
      "dtypes: float64(2), int64(5), object(5)\n",
      "memory usage: 83.7+ KB\n",
      "0.08373205741626795\n",
      "Кол-во вариантов 2 соответствующая ошибка 0.0\n",
      "Кол-во вариантов 100 соответствующая ошибка 0.08133971291866028\n",
      "Кол-во вариантов 500 соответствующая ошибка 0.08133971291866028\n",
      "Кол-во вариантов 600 соответствующая ошибка 0.08133971291866028\n",
      "Ваше сообщение было успешно сохранено!\n"
     ]
    }
   ],
   "source": [
    "import pandas as pd\n",
    "import numpy as np\n",
    "from sklearn.ensemble import RandomForestClassifier #Выбираем модель RandomForestClassifier\n",
    "from sklearn.metrics import mean_absolute_error #подключаем библиотеку для валидации\n",
    "\n",
    "#Выгружаем данные\n",
    "train_data = pd.read_csv('train.csv')\n",
    "test_data = pd.read_csv('test.csv')\n",
    "gender_submission = pd.read_csv('gender_submission.csv')\n",
    "train_data.info()\n",
    "\n",
    "#Преобразуем данные базы\n",
    "## Назнвчаем целевую переменну\n",
    "### в обучающей базе\n",
    "y = train_data['Survived']\n",
    "### в тестовой базе\n",
    "y_test = gender_submission['Survived']\n",
    "\n",
    "##Определяем исследуемые столбцы\n",
    "features = [\"Pclass\", \"Sex\", \"SibSp\", \"Parch\"]\n",
    "## Преобразуем все переменные через функцию pd.get_dummies в цифровые значения и присваиваем их переменной Х и X_test\n",
    "X = pd.get_dummies(train_data[features])\n",
    "X_test = pd.get_dummies(test_data[features])\n",
    "\n",
    "#Применяем модель RandomForestClassifier\n",
    "model = RandomForestClassifier(random_state=1)\n",
    "# Обучаем модель (fit) на обучающей базе X и целевом параметре y\n",
    "model.fit(X, y)\n",
    "# Обученную подель применяем для прогноза на примере тестовой базы X_test\n",
    "predictions = model.predict(X_test)\n",
    "\n",
    "#Валидация модели\n",
    "print(mean_absolute_error(y_test, predictions))\n",
    "\n",
    "\n",
    "def get_mae(max_leaf_nodes, X, X_test, y, y_test):\n",
    "    model1 = RandomForestClassifier(max_leaf_nodes=max_leaf_nodes, random_state=1)\n",
    "    model1.fit(X, y)\n",
    "    predictions1 = model1.predict(X_test)\n",
    "    mae = mean_absolute_error(y_test, predictions1)\n",
    "    return(mae)\n",
    "\n",
    "for max_leaf_nodes in [2, 100, 500, 600]:\n",
    "    my_mae = get_mae(max_leaf_nodes, X, X_test, y, y_test)\n",
    "    print(f'Кол-во вариантов {max_leaf_nodes} соответствующая ошибка {my_mae}')\n",
    "\n",
    "#Выгружаеммы данные для участия\n",
    "output = pd.DataFrame({'PassengerId': test_data.PassengerId, 'Survived': predictions})\n",
    "output.to_csv('submission.csv', index=False)\n",
    "print(\"Ваше сообщение было успешно сохранено!\")\n"
   ]
  },
  {
   "cell_type": "code",
   "execution_count": 22,
   "metadata": {},
   "outputs": [
    {
     "name": "stdout",
     "output_type": "stream",
     "text": [
      "PassengerId      0\n",
      "Survived         0\n",
      "Pclass           0\n",
      "Name             0\n",
      "Sex              0\n",
      "Age            177\n",
      "SibSp            0\n",
      "Parch            0\n",
      "Ticket           0\n",
      "Fare             0\n",
      "Cabin          687\n",
      "Embarked         2\n",
      "dtype: int64\n"
     ]
    }
   ],
   "source": [
    "\n",
    "print(train_data.isnull().sum()) #Проверяем пустые ячейки\n"
   ]
  },
  {
   "cell_type": "markdown",
   "metadata": {},
   "source": [
    "Расчитаем средний возраст и заполним пустые ячейки"
   ]
  },
  {
   "cell_type": "code",
   "execution_count": 28,
   "metadata": {},
   "outputs": [
    {
     "name": "stdout",
     "output_type": "stream",
     "text": [
      "PassengerId      0\n",
      "Survived         0\n",
      "Pclass           0\n",
      "Name             0\n",
      "Sex              0\n",
      "Age              0\n",
      "SibSp            0\n",
      "Parch            0\n",
      "Ticket           0\n",
      "Fare             0\n",
      "Cabin          687\n",
      "Embarked         2\n",
      "dtype: int64\n"
     ]
    }
   ],
   "source": [
    "age_mean = train_data['Age'].mean() #Расчитывем средний возраст\n",
    "train_data['Age'].fillna(age_mean, inplace=True) #Заменяем пустые ячейки на средний возраст\n",
    "print(train_data.isnull().sum()) #Проверяем пустые ячейки"
   ]
  }
 ],
 "metadata": {
  "kernelspec": {
   "display_name": ".venv",
   "language": "python",
   "name": "python3"
  },
  "language_info": {
   "codemirror_mode": {
    "name": "ipython",
    "version": 3
   },
   "file_extension": ".py",
   "mimetype": "text/x-python",
   "name": "python",
   "nbconvert_exporter": "python",
   "pygments_lexer": "ipython3",
   "version": "3.11.9"
  }
 },
 "nbformat": 4,
 "nbformat_minor": 2
}
