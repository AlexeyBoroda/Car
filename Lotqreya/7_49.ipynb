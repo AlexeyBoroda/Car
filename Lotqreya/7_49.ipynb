{
 "cells": [
  {
   "cell_type": "code",
   "execution_count": 2,
   "metadata": {},
   "outputs": [],
   "source": [
    "import pandas as pd\n",
    "import numpy as np\n",
    "#sklearn\n",
    "import sklearn\n",
    "from sklearn.preprocessing import MinMaxScaler\n",
    "from sklearn.model_selection import train_test_split\n",
    "from sklearn.ensemble import RandomForestClassifier\n",
    "\n",
    "#Подключаем keras\n",
    "from tensorflow.keras.models import Sequential\n",
    "from tensorflow.keras.layers import LSTM, Dense, Input\n",
    "from tensorflow.keras.preprocessing.sequence import TimeseriesGenerator\n",
    "\n",
    "#Игнорируем ошибки модели keras\n",
    "import warnings\n",
    "warnings.filterwarnings(\"ignore\", category=UserWarning, module='keras.src.trainers.data_adapters.py_dataset_adapter')\n",
    "\n",
    "\n",
    "\n"
   ]
  },
  {
   "cell_type": "code",
   "execution_count": 4,
   "metadata": {},
   "outputs": [
    {
     "name": "stdout",
     "output_type": "stream",
     "text": [
      "<class 'pandas.core.frame.DataFrame'>\n",
      "RangeIndex: 8685 entries, 0 to 8684\n",
      "Data columns (total 10 columns):\n",
      " #   Column    Non-Null Count  Dtype \n",
      "---  ------    --------------  ----- \n",
      " 0   tiraz     8685 non-null   int64 \n",
      " 1   1-number  8685 non-null   int64 \n",
      " 2   2-number  8685 non-null   int64 \n",
      " 3   3-number  8685 non-null   int64 \n",
      " 4   4-number  8685 non-null   int64 \n",
      " 5   5-number  8685 non-null   int64 \n",
      " 6   6-number  8685 non-null   int64 \n",
      " 7   7-number  8685 non-null   int64 \n",
      " 8   datetime  8684 non-null   object\n",
      " 9   jackpot   8685 non-null   int64 \n",
      "dtypes: int64(9), object(1)\n",
      "memory usage: 678.6+ KB\n"
     ]
    },
    {
     "data": {
      "text/html": [
       "<div>\n",
       "<style scoped>\n",
       "    .dataframe tbody tr th:only-of-type {\n",
       "        vertical-align: middle;\n",
       "    }\n",
       "\n",
       "    .dataframe tbody tr th {\n",
       "        vertical-align: top;\n",
       "    }\n",
       "\n",
       "    .dataframe thead th {\n",
       "        text-align: right;\n",
       "    }\n",
       "</style>\n",
       "<table border=\"1\" class=\"dataframe\">\n",
       "  <thead>\n",
       "    <tr style=\"text-align: right;\">\n",
       "      <th></th>\n",
       "      <th>tiraz</th>\n",
       "      <th>1-number</th>\n",
       "      <th>2-number</th>\n",
       "      <th>3-number</th>\n",
       "      <th>4-number</th>\n",
       "      <th>5-number</th>\n",
       "      <th>6-number</th>\n",
       "      <th>7-number</th>\n",
       "      <th>datetime</th>\n",
       "      <th>jackpot</th>\n",
       "    </tr>\n",
       "  </thead>\n",
       "  <tbody>\n",
       "    <tr>\n",
       "      <th>0</th>\n",
       "      <td>1</td>\n",
       "      <td>17</td>\n",
       "      <td>12</td>\n",
       "      <td>32</td>\n",
       "      <td>47</td>\n",
       "      <td>49</td>\n",
       "      <td>2</td>\n",
       "      <td>44</td>\n",
       "      <td>2011-05-22 23:00:00</td>\n",
       "      <td>300000000</td>\n",
       "    </tr>\n",
       "    <tr>\n",
       "      <th>1</th>\n",
       "      <td>2</td>\n",
       "      <td>7</td>\n",
       "      <td>45</td>\n",
       "      <td>26</td>\n",
       "      <td>18</td>\n",
       "      <td>21</td>\n",
       "      <td>15</td>\n",
       "      <td>31</td>\n",
       "      <td>2011-05-29 23:00:00</td>\n",
       "      <td>300000000</td>\n",
       "    </tr>\n",
       "    <tr>\n",
       "      <th>2</th>\n",
       "      <td>3</td>\n",
       "      <td>37</td>\n",
       "      <td>9</td>\n",
       "      <td>23</td>\n",
       "      <td>14</td>\n",
       "      <td>22</td>\n",
       "      <td>34</td>\n",
       "      <td>39</td>\n",
       "      <td>2011-06-05 23:00:00</td>\n",
       "      <td>300000000</td>\n",
       "    </tr>\n",
       "    <tr>\n",
       "      <th>3</th>\n",
       "      <td>4</td>\n",
       "      <td>22</td>\n",
       "      <td>32</td>\n",
       "      <td>43</td>\n",
       "      <td>17</td>\n",
       "      <td>18</td>\n",
       "      <td>33</td>\n",
       "      <td>25</td>\n",
       "      <td>2011-06-12 23:00:00</td>\n",
       "      <td>300000000</td>\n",
       "    </tr>\n",
       "    <tr>\n",
       "      <th>4</th>\n",
       "      <td>5</td>\n",
       "      <td>39</td>\n",
       "      <td>17</td>\n",
       "      <td>37</td>\n",
       "      <td>45</td>\n",
       "      <td>1</td>\n",
       "      <td>43</td>\n",
       "      <td>13</td>\n",
       "      <td>2011-06-19 23:00:00</td>\n",
       "      <td>300000000</td>\n",
       "    </tr>\n",
       "  </tbody>\n",
       "</table>\n",
       "</div>"
      ],
      "text/plain": [
       "   tiraz  1-number  2-number  3-number  4-number  5-number  6-number  \\\n",
       "0      1        17        12        32        47        49         2   \n",
       "1      2         7        45        26        18        21        15   \n",
       "2      3        37         9        23        14        22        34   \n",
       "3      4        22        32        43        17        18        33   \n",
       "4      5        39        17        37        45         1        43   \n",
       "\n",
       "   7-number             datetime    jackpot  \n",
       "0        44  2011-05-22 23:00:00  300000000  \n",
       "1        31  2011-05-29 23:00:00  300000000  \n",
       "2        39  2011-06-05 23:00:00  300000000  \n",
       "3        25  2011-06-12 23:00:00  300000000  \n",
       "4        13  2011-06-19 23:00:00  300000000  "
      ]
     },
     "execution_count": 4,
     "metadata": {},
     "output_type": "execute_result"
    }
   ],
   "source": [
    "# Загрузка данных\n",
    "df = pd.read_csv('7_49.csv')\n",
    "df.info()\n",
    "df.head()"
   ]
  },
  {
   "cell_type": "code",
   "execution_count": 5,
   "metadata": {},
   "outputs": [
    {
     "name": "stdout",
     "output_type": "stream",
     "text": [
      "<class 'pandas.core.frame.DataFrame'>\n",
      "RangeIndex: 8685 entries, 0 to 8684\n",
      "Data columns (total 9 columns):\n",
      " #   Column    Non-Null Count  Dtype         \n",
      "---  ------    --------------  -----         \n",
      " 0   tiraz     8685 non-null   int64         \n",
      " 1   1-number  8685 non-null   int64         \n",
      " 2   2-number  8685 non-null   int64         \n",
      " 3   3-number  8685 non-null   int64         \n",
      " 4   4-number  8685 non-null   int64         \n",
      " 5   5-number  8685 non-null   int64         \n",
      " 6   6-number  8685 non-null   int64         \n",
      " 7   7-number  8685 non-null   int64         \n",
      " 8   datetime  8684 non-null   datetime64[ns]\n",
      "dtypes: datetime64[ns](1), int64(8)\n",
      "memory usage: 610.8 KB\n"
     ]
    }
   ],
   "source": [
    "#Приведем тип данных datetime к дате\n",
    "df['datetime'] = pd.to_datetime(df['datetime'], format='%Y-%m-%d')\n",
    "\n",
    "#Удалим jackpot\n",
    "df = df.drop('jackpot', axis=1)\n",
    "\n",
    "df.info()\n",
    "\n"
   ]
  },
  {
   "cell_type": "code",
   "execution_count": 8,
   "metadata": {},
   "outputs": [
    {
     "data": {
      "text/plain": [
       "array([[   1,   17,   12, ...,   49,    2,   44],\n",
       "       [   2,    7,   45, ...,   21,   15,   31],\n",
       "       [   3,   37,    9, ...,   22,   34,   39],\n",
       "       ...,\n",
       "       [8684,   12,   18, ...,   30,   43,   27],\n",
       "       [8685,   48,   37, ...,   35,   38,   33],\n",
       "       [8686,   28,   29, ...,   24,   10,   13]], dtype=int64)"
      ]
     },
     "execution_count": 8,
     "metadata": {},
     "output_type": "execute_result"
    }
   ],
   "source": [
    "df_new = df.drop('datetime', axis=1)\n",
    "df_array = np.array(df_new)\n",
    "df_array"
   ]
  },
  {
   "cell_type": "code",
   "execution_count": 9,
   "metadata": {},
   "outputs": [
    {
     "data": {
      "text/plain": [
       "array([[   1,    2,    3, ..., 8684, 8685, 8686],\n",
       "       [  17,    7,   37, ...,   12,   48,   28],\n",
       "       [  12,   45,    9, ...,   18,   37,   29],\n",
       "       ...,\n",
       "       [  49,   21,   22, ...,   30,   35,   24],\n",
       "       [   2,   15,   34, ...,   43,   38,   10],\n",
       "       [  44,   31,   39, ...,   27,   33,   13]], dtype=int64)"
      ]
     },
     "execution_count": 9,
     "metadata": {},
     "output_type": "execute_result"
    }
   ],
   "source": [
    "#Транспонируем матрицу\n",
    "df_array_T=df_array.T\n",
    "df_array_T"
   ]
  }
 ],
 "metadata": {
  "kernelspec": {
   "display_name": ".venv",
   "language": "python",
   "name": "python3"
  },
  "language_info": {
   "codemirror_mode": {
    "name": "ipython",
    "version": 3
   },
   "file_extension": ".py",
   "mimetype": "text/x-python",
   "name": "python",
   "nbconvert_exporter": "python",
   "pygments_lexer": "ipython3",
   "version": "3.11.9"
  }
 },
 "nbformat": 4,
 "nbformat_minor": 2
}
