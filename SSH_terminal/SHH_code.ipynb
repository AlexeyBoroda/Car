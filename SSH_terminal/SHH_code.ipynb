{
 "cells": [
  {
   "cell_type": "markdown",
   "id": "4b43e529-77ab-4537-a4c3-ee735310af00",
   "metadata": {},
   "source": [
    "# Соединение с сайтом по SSH"
   ]
  },
  {
   "cell_type": "markdown",
   "id": "9b23647d-7a16-46f2-88f2-48b9da67a9e9",
   "metadata": {},
   "source": [
    "## Подключение к серверу"
   ]
  },
  {
   "cell_type": "code",
   "execution_count": 5,
   "id": "03f79614-ba57-4d2b-bfd0-02c70c13eb30",
   "metadata": {
    "execution": {
     "iopub.execute_input": "2024-11-19T10:10:06.363474Z",
     "iopub.status.busy": "2024-11-19T10:10:06.363474Z",
     "iopub.status.idle": "2024-11-19T10:10:06.819298Z",
     "shell.execute_reply": "2024-11-19T10:10:06.819298Z",
     "shell.execute_reply.started": "2024-11-19T10:10:06.363474Z"
    }
   },
   "outputs": [
    {
     "name": "stdout",
     "output_type": "stream",
     "text": [
      "Соединение установлено!\n"
     ]
    }
   ],
   "source": [
    "import paramiko\n",
    "\n",
    "# Настройки подключения\n",
    "hostname = \"________\"\n",
    "username = \"_______\"\n",
    "password = \"_________\"\n",
    "\n",
    "# Создание SSH-клиента\n",
    "ssh = paramiko.SSHClient()\n",
    "ssh.set_missing_host_key_policy(paramiko.AutoAddPolicy())\n",
    "\n",
    "# Установка соединения\n",
    "try:\n",
    "    ssh.connect(hostname, username=username, password=password)\n",
    "    print(\"Соединение установлено!\")\n",
    "except Exception as e:\n",
    "    print(f\"Ошибка подключения: {e}\")\n"
   ]
  },
  {
   "cell_type": "markdown",
   "id": "7f36d049-6d8a-410c-88d2-084d82ceb88d",
   "metadata": {},
   "source": [
    "## Ввод команд в поле\n",
    "\n",
    "*Вводим команду в переменную command = \"___\"*"
   ]
  },
  {
   "cell_type": "code",
   "execution_count": 6,
   "id": "9e724018-54a9-478e-9ed7-8f7a2dd9e6aa",
   "metadata": {
    "execution": {
     "iopub.execute_input": "2024-11-19T10:10:18.843823Z",
     "iopub.status.busy": "2024-11-19T10:10:18.843823Z",
     "iopub.status.idle": "2024-11-19T10:10:18.945380Z",
     "shell.execute_reply": "2024-11-19T10:10:18.944378Z",
     "shell.execute_reply.started": "2024-11-19T10:10:18.843823Z"
    }
   },
   "outputs": [
    {
     "name": "stdout",
     "output_type": "stream",
     "text": [
      "Command: ls -la /home/ant3725595/borodulin.expert/docs/ppo_pnp\n",
      "STDOUT:\n",
      "total 64\n",
      "drwxrwxr-x.  2 ant3725595 ant3725595  4096 Nov 19 11:47 .\n",
      "drwxr-xr-x. 28 ant3725595 ant3725595  4096 Nov 19 11:00 ..\n",
      "-rw-r-----.  1 ant3725595 ant3725595    30 Nov 19 10:11 .htaccess\n",
      "-rw-rw-r--.  1 ant3725595 ant3725595    39 Nov 15 08:30 .section.php\n",
      "-rw-rw-r--.  1 ant3725595 ant3725595 14762 Nov 19 11:55 debug_data_log.txt\n",
      "-rw-rw-r--.  1 ant3725595 ant3725595   110 Nov 19 11:47 error_log.txt\n",
      "-rw-rw-r--.  1 ant3725595 ant3725595     2 Nov 19 11:55 last_post_id.txt\n",
      "-rw-rw-r--.  1 ant3725595 ant3725595  4841 Nov 15 12:13 readme.html\n",
      "-rw-rw-r--.  1 ant3725595 ant3725595  6401 Nov 19 11:55 telegram_log.txt\n",
      "-rw-r-----.  1 ant3725595 ant3725595  6399 Nov 19 11:47 vk_to_telegram.php\n",
      "\n",
      "STDERR:\n",
      "\n"
     ]
    }
   ],
   "source": [
    "# Выполнение команды\n",
    "# Вводим содержание папки `ppo_pnp`\n",
    "\n",
    "command = \"ls -la /home/ant3725595/borodulin.expert/docs/ppo_pnp\"\n",
    "stdin, stdout, stderr = ssh.exec_command(command)\n",
    "\n",
    "# Вывод результатов\n",
    "print(f\"Command: {command}\")\n",
    "print(\"STDOUT:\")\n",
    "print(stdout.read().decode())\n",
    "print(\"STDERR:\")\n",
    "print(stderr.read().decode())\n"
   ]
  },
  {
   "cell_type": "code",
   "execution_count": 12,
   "id": "ba1b47d6-737c-4c80-8ba9-0415b10964f2",
   "metadata": {
    "execution": {
     "iopub.execute_input": "2024-11-19T10:21:29.394643Z",
     "iopub.status.busy": "2024-11-19T10:21:29.393642Z",
     "iopub.status.idle": "2024-11-19T10:21:29.489771Z",
     "shell.execute_reply": "2024-11-19T10:21:29.489771Z",
     "shell.execute_reply.started": "2024-11-19T10:21:29.394643Z"
    }
   },
   "outputs": [
    {
     "name": "stdout",
     "output_type": "stream",
     "text": [
      "Command: cat /home/ant3725595/borodulin.expert/docs/ppo_pnp/last_post_id.txt\n",
      "STDOUT:\n",
      "29\n",
      "STDERR:\n",
      "\n"
     ]
    }
   ],
   "source": [
    "# Выполнение команды\n",
    "# посмотреть содержимое файла error_log.txt\n",
    "command = \"cat /home/ant3725595/borodulin.expert/docs/ppo_pnp/last_post_id.txt\"\n",
    "stdin, stdout, stderr = ssh.exec_command(command)\n",
    "\n",
    "# Вывод результатов\n",
    "print(f\"Command: {command}\")\n",
    "print(\"STDOUT:\")\n",
    "print(stdout.read().decode())\n",
    "print(\"STDERR:\")\n",
    "print(stderr.read().decode())\n"
   ]
  },
  {
   "cell_type": "code",
   "execution_count": 17,
   "id": "00aac49a-334b-4452-9182-2a90eed50626",
   "metadata": {
    "execution": {
     "iopub.execute_input": "2024-11-19T10:32:40.972924Z",
     "iopub.status.busy": "2024-11-19T10:32:40.971926Z",
     "iopub.status.idle": "2024-11-19T10:32:41.228633Z",
     "shell.execute_reply": "2024-11-19T10:32:41.228633Z",
     "shell.execute_reply.started": "2024-11-19T10:32:40.972924Z"
    }
   },
   "outputs": [
    {
     "name": "stdout",
     "output_type": "stream",
     "text": [
      "Command: du -h --max-depth=1 /usr\n",
      "STDOUT:\n",
      "206M\t/usr/bin\n",
      "32M\t/usr/sbin\n",
      "184M\t/usr/lib\n",
      "457M\t/usr/lib64\n",
      "376M\t/usr/share\n",
      "0\t/usr/games\n",
      "164K\t/usr/include\n",
      "21M\t/usr/libexec\n",
      "744M\t/usr/local\n",
      "0\t/usr/src\n",
      "2.0G\t/usr\n",
      "\n",
      "STDERR:\n",
      "du: cannot read directory '/usr/share/selinux/targeted/default/active': Permission denied\n",
      "\n"
     ]
    }
   ],
   "source": [
    "# Выполнение команды\n",
    "# посмотреть размер папок в директории\n",
    "command = \"du -h --max-depth=1 /usr\"\n",
    "stdin, stdout, stderr = ssh.exec_command(command)\n",
    "\n",
    "# Вывод результатов\n",
    "print(f\"Command: {command}\")\n",
    "print(\"STDOUT:\")\n",
    "print(stdout.read().decode())\n",
    "print(\"STDERR:\")\n",
    "print(stderr.read().decode())\n"
   ]
  },
  {
   "cell_type": "code",
   "execution_count": 25,
   "id": "df853c5b-97ce-4974-b217-436105f65e78",
   "metadata": {
    "execution": {
     "iopub.execute_input": "2024-11-19T10:42:21.603389Z",
     "iopub.status.busy": "2024-11-19T10:42:21.603389Z",
     "iopub.status.idle": "2024-11-19T10:42:21.716958Z",
     "shell.execute_reply": "2024-11-19T10:42:21.716065Z",
     "shell.execute_reply.started": "2024-11-19T10:42:21.603389Z"
    }
   },
   "outputs": [
    {
     "name": "stdout",
     "output_type": "stream",
     "text": [
      "Command: ls -lh /usr/\n",
      "STDOUT:\n",
      "total 128K\n",
      "dr-xr-xr-x.   2 nobody nobody  24K Jul 22 12:11 bin\n",
      "drwxr-xr-x.   2 nobody nobody    6 Jun 22  2021 games\n",
      "drwxr-xr-x.   6 nobody nobody   86 Jul 22 12:10 include\n",
      "dr-xr-xr-x.  26 nobody nobody 4.0K Jul 22 12:10 lib\n",
      "dr-xr-xr-x.  52 nobody nobody  36K Jul 22 12:11 lib64\n",
      "drwxr-xr-x.  17 nobody nobody 4.0K Jul 22 12:11 libexec\n",
      "drwxr-xr-x.  41 nobody nobody 4.0K Jul 22 12:11 local\n",
      "dr-xr-xr-x.   2 nobody nobody 8.0K Jul 22 12:11 sbin\n",
      "drwxr-xr-x. 104 nobody nobody 4.0K Jul 22 12:11 share\n",
      "drwxr-xr-x.   4 nobody nobody   34 Jul 22 12:09 src\n",
      "lrwxrwxrwx.   1 nobody nobody   10 Jun 22  2021 tmp -> ../var/tmp\n",
      "\n",
      "STDERR:\n",
      "\n"
     ]
    }
   ],
   "source": [
    "#Просмотр размера файлов в директории\n",
    "# Указать директорию\n",
    "directory = \"/usr/\"\n",
    "\n",
    "# Команда для отображения размеров файлов\n",
    "command = f\"ls -lh {directory}\"\n",
    "stdin, stdout, stderr = ssh.exec_command(command)\n",
    "\n",
    "# Вывод результатов\n",
    "print(f\"Command: {command}\")\n",
    "print(\"STDOUT:\")\n",
    "print(stdout.read().decode())  # Вывод размеров файлов\n",
    "print(\"STDERR:\")\n",
    "print(stderr.read().decode())  # Ошибки, если есть\n"
   ]
  },
  {
   "cell_type": "code",
   "execution_count": null,
   "id": "450efc92-26ec-40ac-98c1-bb62ce9d25a4",
   "metadata": {},
   "outputs": [],
   "source": []
  },
  {
   "cell_type": "code",
   "execution_count": null,
   "id": "98f7dfe9-03ec-471c-92c5-4b07427241c4",
   "metadata": {},
   "outputs": [],
   "source": []
  },
  {
   "cell_type": "code",
   "execution_count": null,
   "id": "ca0266a8-cab4-42f0-92b2-9fc1b268ba05",
   "metadata": {},
   "outputs": [],
   "source": []
  },
  {
   "cell_type": "code",
   "execution_count": 26,
   "id": "390f852c-3fe1-479e-bd96-840e3c23085e",
   "metadata": {
    "execution": {
     "iopub.execute_input": "2024-11-19T10:52:39.663376Z",
     "iopub.status.busy": "2024-11-19T10:52:39.662379Z",
     "iopub.status.idle": "2024-11-19T10:52:39.681377Z",
     "shell.execute_reply": "2024-11-19T10:52:39.680376Z",
     "shell.execute_reply.started": "2024-11-19T10:52:39.663376Z"
    }
   },
   "outputs": [
    {
     "name": "stdout",
     "output_type": "stream",
     "text": [
      "Соединение закрыто.\n"
     ]
    }
   ],
   "source": [
    "# Проверка соединения перед завершением\n",
    "if ssh.get_transport() is not None and ssh.get_transport().is_active():\n",
    "    ssh.close()\n",
    "    print(\"Соединение закрыто.\")\n",
    "else:\n",
    "    print(\"Соединение уже разорвано или не было установлено.\")\n"
   ]
  },
  {
   "cell_type": "code",
   "execution_count": null,
   "id": "428e00cb-15b6-483e-b61a-3ee9115c845d",
   "metadata": {},
   "outputs": [],
   "source": []
  }
 ],
 "metadata": {
  "kernelspec": {
   "display_name": "Python 3 (ipykernel)",
   "language": "python",
   "name": "python3"
  },
  "language_info": {
   "codemirror_mode": {
    "name": "ipython",
    "version": 3
   },
   "file_extension": ".py",
   "mimetype": "text/x-python",
   "name": "python",
   "nbconvert_exporter": "python",
   "pygments_lexer": "ipython3",
   "version": "3.12.7"
  }
 },
 "nbformat": 4,
 "nbformat_minor": 5
}
