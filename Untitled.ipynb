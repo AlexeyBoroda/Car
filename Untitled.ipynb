{
 "cells": [
  {
   "cell_type": "code",
   "execution_count": 23,
   "id": "716097ea-c490-49ba-b5ef-d43ec8bb1efe",
   "metadata": {
    "execution": {
     "iopub.execute_input": "2024-11-21T10:33:23.807847Z",
     "iopub.status.busy": "2024-11-21T10:33:23.807847Z",
     "iopub.status.idle": "2024-11-21T10:33:23.814167Z",
     "shell.execute_reply": "2024-11-21T10:33:23.813161Z",
     "shell.execute_reply.started": "2024-11-21T10:33:23.807847Z"
    }
   },
   "outputs": [
    {
     "name": "stdout",
     "output_type": "stream",
     "text": [
      "[1, 10000, -0.5, 100]\n",
      "[0, 2, 4, 8]\n"
     ]
    }
   ],
   "source": [
    "# исходный список\n",
    "numbers_first = [1, 10, 10000, -2, -0.5, 82, 3, 9999, 100]\n",
    "numbers_second = [1, 7, 10000, -5, -0.5, 10, 2, 1000, 100]\n",
    "\n",
    "# финальный список с подходящими числами\n",
    "filtered_numbers = []\n",
    "filtered_i = []\n",
    "\n",
    "for i in range(len(numbers_first)):                # запускаем цикл, перебираем индексы\n",
    "    if numbers_first[i] == numbers_second[i]:      # проверяем условие для элемента\n",
    "        filtered_numbers.append(numbers_first[i])\n",
    "        filtered_i.append(i) # сохраняем подходящий объект\n",
    "\n",
    "print(filtered_numbers)\n",
    "print(filtered_i)"
   ]
  },
  {
   "cell_type": "code",
   "execution_count": null,
   "id": "567580aa-7c5e-4c94-a3d9-d15db925df81",
   "metadata": {},
   "outputs": [],
   "source": []
  }
 ],
 "metadata": {
  "kernelspec": {
   "display_name": "Python 3 (ipykernel)",
   "language": "python",
   "name": "python3"
  },
  "language_info": {
   "codemirror_mode": {
    "name": "ipython",
    "version": 3
   },
   "file_extension": ".py",
   "mimetype": "text/x-python",
   "name": "python",
   "nbconvert_exporter": "python",
   "pygments_lexer": "ipython3",
   "version": "3.12.7"
  }
 },
 "nbformat": 4,
 "nbformat_minor": 5
}
