{
 "cells": [
  {
   "cell_type": "code",
   "execution_count": 1,
   "id": "c83e2f0d-823b-4077-bee4-5468f9d04ccf",
   "metadata": {
    "execution": {
     "iopub.execute_input": "2024-10-15T18:09:22.767145Z",
     "iopub.status.busy": "2024-10-15T18:09:22.766136Z",
     "iopub.status.idle": "2024-10-15T18:09:32.603914Z",
     "shell.execute_reply": "2024-10-15T18:09:32.600894Z",
     "shell.execute_reply.started": "2024-10-15T18:09:22.767145Z"
    }
   },
   "outputs": [
    {
     "name": "stdout",
     "output_type": "stream",
     "text": [
      "3.5\n"
     ]
    }
   ],
   "source": [
    "import pypandoc\n",
    "\n",
    "# Скачать и установить pandoc\n",
    "pypandoc.download_pandoc()\n",
    "\n",
    "# Проверка версии pandoc\n",
    "print(pypandoc.get_pandoc_version())"
   ]
  },
  {
   "cell_type": "code",
   "execution_count": null,
   "id": "0ecc877f-6541-4f50-a3e1-c41324d1f282",
   "metadata": {},
   "outputs": [],
   "source": []
  }
 ],
 "metadata": {
  "kernelspec": {
   "display_name": "Python 3 (ipykernel)",
   "language": "python",
   "name": "python3"
  },
  "language_info": {
   "codemirror_mode": {
    "name": "ipython",
    "version": 3
   },
   "file_extension": ".py",
   "mimetype": "text/x-python",
   "name": "python",
   "nbconvert_exporter": "python",
   "pygments_lexer": "ipython3",
   "version": "3.12.7"
  }
 },
 "nbformat": 4,
 "nbformat_minor": 5
}
