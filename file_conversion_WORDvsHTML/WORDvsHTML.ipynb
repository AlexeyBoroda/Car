{
 "cells": [
  {
   "cell_type": "code",
   "execution_count": 12,
   "id": "076f5fa5-a261-4304-8a2c-530a34d8f040",
   "metadata": {
    "execution": {
     "iopub.execute_input": "2024-10-15T18:07:29.289157Z",
     "iopub.status.busy": "2024-10-15T18:07:29.289157Z",
     "iopub.status.idle": "2024-10-15T18:07:29.296697Z",
     "shell.execute_reply": "2024-10-15T18:07:29.294678Z",
     "shell.execute_reply.started": "2024-10-15T18:07:29.289157Z"
    }
   },
   "outputs": [],
   "source": [
    "import pypandoc\n",
    "\n",
    "# Скачать и установить pandoc\n",
    "pypandoc.download_pandoc()\n",
    "\n",
    "# Проверка версии pandoc\n",
    "print(pypandoc.get_pandoc_version())"
   ]
  },
  {
   "cell_type": "code",
   "execution_count": 19,
   "id": "fbd8d35d-58f3-416b-a64d-07c663f3cf13",
   "metadata": {
    "execution": {
     "iopub.execute_input": "2024-10-15T18:10:06.227804Z",
     "iopub.status.busy": "2024-10-15T18:10:06.226730Z",
     "iopub.status.idle": "2024-10-15T18:10:07.161199Z",
     "shell.execute_reply": "2024-10-15T18:10:07.159188Z",
     "shell.execute_reply.started": "2024-10-15T18:10:06.227804Z"
    }
   },
   "outputs": [
    {
     "name": "stdout",
     "output_type": "stream",
     "text": [
      "Document converted successfully and saved to Article_analysis_of_competitors.html\n"
     ]
    }
   ],
   "source": [
    "# Путь к файлу Word документа\n",
    "input_file = \"Article_analysis_of_competitors.docx\"\n",
    "# Путь для сохранения HTML файла\n",
    "output_file = \"Article_analysis_of_competitors.html\"\n",
    "\n",
    "# Конвертация .docx в HTML с сохранением форматирования\n",
    "output = pypandoc.convert_file(input_file, 'html', extra_args=['--extract-media=./media'])\n",
    "\n",
    "# Сохранение результата в HTML файл\n",
    "with open(output_file, 'w', encoding='utf-8') as f:\n",
    "    f.write(output)\n",
    "\n",
    "print(f\"Document converted successfully and saved to {output_file}\")"
   ]
  },
  {
   "cell_type": "code",
   "execution_count": null,
   "id": "595c6406-90d1-492e-908e-14eb24c10a98",
   "metadata": {},
   "outputs": [],
   "source": []
  }
 ],
 "metadata": {
  "kernelspec": {
   "display_name": "Python 3 (ipykernel)",
   "language": "python",
   "name": "python3"
  },
  "language_info": {
   "codemirror_mode": {
    "name": "ipython",
    "version": 3
   },
   "file_extension": ".py",
   "mimetype": "text/x-python",
   "name": "python",
   "nbconvert_exporter": "python",
   "pygments_lexer": "ipython3",
   "version": "3.12.7"
  }
 },
 "nbformat": 4,
 "nbformat_minor": 5
}
