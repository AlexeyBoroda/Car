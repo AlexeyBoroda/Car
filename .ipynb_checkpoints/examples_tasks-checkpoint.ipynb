{
 "cells": [
  {
   "cell_type": "code",
   "execution_count": 1,
   "metadata": {},
   "outputs": [],
   "source": [
    "import pandas as pd\n",
    "import numpy as np\n",
    "#Библиотеки визуализации plotly\n",
    "import plotly\n",
    "import plotly.graph_objs as go\n",
    "import plotly.express as px\n",
    "from plotly.subplots import make_subplots"
   ]
  },
  {
   "cell_type": "code",
   "execution_count": 4,
   "metadata": {},
   "outputs": [
    {
     "data": {
      "text/plain": [
       "array([[1, 2, 3],\n",
       "       [4, 5, 6]])"
      ]
     },
     "execution_count": 4,
     "metadata": {},
     "output_type": "execute_result"
    }
   ],
   "source": [
    "nested_list = [[1, 2, 3], [4, 5, 6]]\n",
    "matrix = np.array(nested_list)\n",
    "matrix\n"
   ]
  },
  {
   "cell_type": "code",
   "execution_count": 5,
   "metadata": {},
   "outputs": [
    {
     "data": {
      "application/vnd.plotly.v1+json": {
       "config": {
        "plotlyServerURL": "https://plot.ly"
       },
       "data": [
        {
         "hovertemplate": "x=%{x}<br>y=%{y}<extra></extra>",
         "legendgroup": "",
         "marker": {
          "color": "#636efa",
          "symbol": "circle"
         },
         "mode": "markers",
         "name": "",
         "orientation": "v",
         "showlegend": false,
         "type": "scatter",
         "x": [
          0,
          0.1,
          0.2,
          0.30000000000000004,
          0.4,
          0.5,
          0.6000000000000001,
          0.7000000000000001,
          0.8,
          0.9,
          1,
          1.1,
          1.2000000000000002,
          1.3,
          1.4000000000000001,
          1.5,
          1.6,
          1.7000000000000002,
          1.8,
          1.9000000000000001,
          2,
          2.1,
          2.2,
          2.3000000000000003,
          2.4000000000000004,
          2.5,
          2.6,
          2.7,
          2.8000000000000003,
          2.9000000000000004,
          3,
          3.1,
          3.2,
          3.3000000000000003,
          3.4000000000000004,
          3.5,
          3.6,
          3.7,
          3.8000000000000003,
          3.9000000000000004,
          4,
          4.1000000000000005,
          4.2,
          4.3,
          4.4,
          4.5,
          4.6000000000000005,
          4.7,
          4.800000000000001,
          4.9
         ],
         "xaxis": "x",
         "y": [
          0,
          0.010000000000000002,
          0.04000000000000001,
          0.09000000000000002,
          0.16000000000000003,
          0.25,
          0.3600000000000001,
          0.4900000000000001,
          0.6400000000000001,
          0.81,
          1,
          1.2100000000000002,
          1.4400000000000004,
          1.6900000000000002,
          1.9600000000000004,
          2.25,
          2.5600000000000005,
          2.8900000000000006,
          3.24,
          3.6100000000000003,
          4,
          4.41,
          4.840000000000001,
          5.290000000000001,
          5.760000000000002,
          6.25,
          6.760000000000001,
          7.290000000000001,
          7.840000000000002,
          8.410000000000002,
          9,
          9.610000000000001,
          10.240000000000002,
          10.890000000000002,
          11.560000000000002,
          12.25,
          12.96,
          13.690000000000001,
          14.440000000000001,
          15.210000000000003,
          16,
          16.810000000000006,
          17.64,
          18.49,
          19.360000000000003,
          20.25,
          21.160000000000004,
          22.090000000000003,
          23.040000000000006,
          24.010000000000005
         ],
         "yaxis": "y"
        }
       ],
       "layout": {
        "legend": {
         "tracegroupgap": 0
        },
        "margin": {
         "t": 60
        },
        "template": {
         "data": {
          "bar": [
           {
            "error_x": {
             "color": "#2a3f5f"
            },
            "error_y": {
             "color": "#2a3f5f"
            },
            "marker": {
             "line": {
              "color": "#E5ECF6",
              "width": 0.5
             },
             "pattern": {
              "fillmode": "overlay",
              "size": 10,
              "solidity": 0.2
             }
            },
            "type": "bar"
           }
          ],
          "barpolar": [
           {
            "marker": {
             "line": {
              "color": "#E5ECF6",
              "width": 0.5
             },
             "pattern": {
              "fillmode": "overlay",
              "size": 10,
              "solidity": 0.2
             }
            },
            "type": "barpolar"
           }
          ],
          "carpet": [
           {
            "aaxis": {
             "endlinecolor": "#2a3f5f",
             "gridcolor": "white",
             "linecolor": "white",
             "minorgridcolor": "white",
             "startlinecolor": "#2a3f5f"
            },
            "baxis": {
             "endlinecolor": "#2a3f5f",
             "gridcolor": "white",
             "linecolor": "white",
             "minorgridcolor": "white",
             "startlinecolor": "#2a3f5f"
            },
            "type": "carpet"
           }
          ],
          "choropleth": [
           {
            "colorbar": {
             "outlinewidth": 0,
             "ticks": ""
            },
            "type": "choropleth"
           }
          ],
          "contour": [
           {
            "colorbar": {
             "outlinewidth": 0,
             "ticks": ""
            },
            "colorscale": [
             [
              0,
              "#0d0887"
             ],
             [
              0.1111111111111111,
              "#46039f"
             ],
             [
              0.2222222222222222,
              "#7201a8"
             ],
             [
              0.3333333333333333,
              "#9c179e"
             ],
             [
              0.4444444444444444,
              "#bd3786"
             ],
             [
              0.5555555555555556,
              "#d8576b"
             ],
             [
              0.6666666666666666,
              "#ed7953"
             ],
             [
              0.7777777777777778,
              "#fb9f3a"
             ],
             [
              0.8888888888888888,
              "#fdca26"
             ],
             [
              1,
              "#f0f921"
             ]
            ],
            "type": "contour"
           }
          ],
          "contourcarpet": [
           {
            "colorbar": {
             "outlinewidth": 0,
             "ticks": ""
            },
            "type": "contourcarpet"
           }
          ],
          "heatmap": [
           {
            "colorbar": {
             "outlinewidth": 0,
             "ticks": ""
            },
            "colorscale": [
             [
              0,
              "#0d0887"
             ],
             [
              0.1111111111111111,
              "#46039f"
             ],
             [
              0.2222222222222222,
              "#7201a8"
             ],
             [
              0.3333333333333333,
              "#9c179e"
             ],
             [
              0.4444444444444444,
              "#bd3786"
             ],
             [
              0.5555555555555556,
              "#d8576b"
             ],
             [
              0.6666666666666666,
              "#ed7953"
             ],
             [
              0.7777777777777778,
              "#fb9f3a"
             ],
             [
              0.8888888888888888,
              "#fdca26"
             ],
             [
              1,
              "#f0f921"
             ]
            ],
            "type": "heatmap"
           }
          ],
          "heatmapgl": [
           {
            "colorbar": {
             "outlinewidth": 0,
             "ticks": ""
            },
            "colorscale": [
             [
              0,
              "#0d0887"
             ],
             [
              0.1111111111111111,
              "#46039f"
             ],
             [
              0.2222222222222222,
              "#7201a8"
             ],
             [
              0.3333333333333333,
              "#9c179e"
             ],
             [
              0.4444444444444444,
              "#bd3786"
             ],
             [
              0.5555555555555556,
              "#d8576b"
             ],
             [
              0.6666666666666666,
              "#ed7953"
             ],
             [
              0.7777777777777778,
              "#fb9f3a"
             ],
             [
              0.8888888888888888,
              "#fdca26"
             ],
             [
              1,
              "#f0f921"
             ]
            ],
            "type": "heatmapgl"
           }
          ],
          "histogram": [
           {
            "marker": {
             "pattern": {
              "fillmode": "overlay",
              "size": 10,
              "solidity": 0.2
             }
            },
            "type": "histogram"
           }
          ],
          "histogram2d": [
           {
            "colorbar": {
             "outlinewidth": 0,
             "ticks": ""
            },
            "colorscale": [
             [
              0,
              "#0d0887"
             ],
             [
              0.1111111111111111,
              "#46039f"
             ],
             [
              0.2222222222222222,
              "#7201a8"
             ],
             [
              0.3333333333333333,
              "#9c179e"
             ],
             [
              0.4444444444444444,
              "#bd3786"
             ],
             [
              0.5555555555555556,
              "#d8576b"
             ],
             [
              0.6666666666666666,
              "#ed7953"
             ],
             [
              0.7777777777777778,
              "#fb9f3a"
             ],
             [
              0.8888888888888888,
              "#fdca26"
             ],
             [
              1,
              "#f0f921"
             ]
            ],
            "type": "histogram2d"
           }
          ],
          "histogram2dcontour": [
           {
            "colorbar": {
             "outlinewidth": 0,
             "ticks": ""
            },
            "colorscale": [
             [
              0,
              "#0d0887"
             ],
             [
              0.1111111111111111,
              "#46039f"
             ],
             [
              0.2222222222222222,
              "#7201a8"
             ],
             [
              0.3333333333333333,
              "#9c179e"
             ],
             [
              0.4444444444444444,
              "#bd3786"
             ],
             [
              0.5555555555555556,
              "#d8576b"
             ],
             [
              0.6666666666666666,
              "#ed7953"
             ],
             [
              0.7777777777777778,
              "#fb9f3a"
             ],
             [
              0.8888888888888888,
              "#fdca26"
             ],
             [
              1,
              "#f0f921"
             ]
            ],
            "type": "histogram2dcontour"
           }
          ],
          "mesh3d": [
           {
            "colorbar": {
             "outlinewidth": 0,
             "ticks": ""
            },
            "type": "mesh3d"
           }
          ],
          "parcoords": [
           {
            "line": {
             "colorbar": {
              "outlinewidth": 0,
              "ticks": ""
             }
            },
            "type": "parcoords"
           }
          ],
          "pie": [
           {
            "automargin": true,
            "type": "pie"
           }
          ],
          "scatter": [
           {
            "fillpattern": {
             "fillmode": "overlay",
             "size": 10,
             "solidity": 0.2
            },
            "type": "scatter"
           }
          ],
          "scatter3d": [
           {
            "line": {
             "colorbar": {
              "outlinewidth": 0,
              "ticks": ""
             }
            },
            "marker": {
             "colorbar": {
              "outlinewidth": 0,
              "ticks": ""
             }
            },
            "type": "scatter3d"
           }
          ],
          "scattercarpet": [
           {
            "marker": {
             "colorbar": {
              "outlinewidth": 0,
              "ticks": ""
             }
            },
            "type": "scattercarpet"
           }
          ],
          "scattergeo": [
           {
            "marker": {
             "colorbar": {
              "outlinewidth": 0,
              "ticks": ""
             }
            },
            "type": "scattergeo"
           }
          ],
          "scattergl": [
           {
            "marker": {
             "colorbar": {
              "outlinewidth": 0,
              "ticks": ""
             }
            },
            "type": "scattergl"
           }
          ],
          "scattermapbox": [
           {
            "marker": {
             "colorbar": {
              "outlinewidth": 0,
              "ticks": ""
             }
            },
            "type": "scattermapbox"
           }
          ],
          "scatterpolar": [
           {
            "marker": {
             "colorbar": {
              "outlinewidth": 0,
              "ticks": ""
             }
            },
            "type": "scatterpolar"
           }
          ],
          "scatterpolargl": [
           {
            "marker": {
             "colorbar": {
              "outlinewidth": 0,
              "ticks": ""
             }
            },
            "type": "scatterpolargl"
           }
          ],
          "scatterternary": [
           {
            "marker": {
             "colorbar": {
              "outlinewidth": 0,
              "ticks": ""
             }
            },
            "type": "scatterternary"
           }
          ],
          "surface": [
           {
            "colorbar": {
             "outlinewidth": 0,
             "ticks": ""
            },
            "colorscale": [
             [
              0,
              "#0d0887"
             ],
             [
              0.1111111111111111,
              "#46039f"
             ],
             [
              0.2222222222222222,
              "#7201a8"
             ],
             [
              0.3333333333333333,
              "#9c179e"
             ],
             [
              0.4444444444444444,
              "#bd3786"
             ],
             [
              0.5555555555555556,
              "#d8576b"
             ],
             [
              0.6666666666666666,
              "#ed7953"
             ],
             [
              0.7777777777777778,
              "#fb9f3a"
             ],
             [
              0.8888888888888888,
              "#fdca26"
             ],
             [
              1,
              "#f0f921"
             ]
            ],
            "type": "surface"
           }
          ],
          "table": [
           {
            "cells": {
             "fill": {
              "color": "#EBF0F8"
             },
             "line": {
              "color": "white"
             }
            },
            "header": {
             "fill": {
              "color": "#C8D4E3"
             },
             "line": {
              "color": "white"
             }
            },
            "type": "table"
           }
          ]
         },
         "layout": {
          "annotationdefaults": {
           "arrowcolor": "#2a3f5f",
           "arrowhead": 0,
           "arrowwidth": 1
          },
          "autotypenumbers": "strict",
          "coloraxis": {
           "colorbar": {
            "outlinewidth": 0,
            "ticks": ""
           }
          },
          "colorscale": {
           "diverging": [
            [
             0,
             "#8e0152"
            ],
            [
             0.1,
             "#c51b7d"
            ],
            [
             0.2,
             "#de77ae"
            ],
            [
             0.3,
             "#f1b6da"
            ],
            [
             0.4,
             "#fde0ef"
            ],
            [
             0.5,
             "#f7f7f7"
            ],
            [
             0.6,
             "#e6f5d0"
            ],
            [
             0.7,
             "#b8e186"
            ],
            [
             0.8,
             "#7fbc41"
            ],
            [
             0.9,
             "#4d9221"
            ],
            [
             1,
             "#276419"
            ]
           ],
           "sequential": [
            [
             0,
             "#0d0887"
            ],
            [
             0.1111111111111111,
             "#46039f"
            ],
            [
             0.2222222222222222,
             "#7201a8"
            ],
            [
             0.3333333333333333,
             "#9c179e"
            ],
            [
             0.4444444444444444,
             "#bd3786"
            ],
            [
             0.5555555555555556,
             "#d8576b"
            ],
            [
             0.6666666666666666,
             "#ed7953"
            ],
            [
             0.7777777777777778,
             "#fb9f3a"
            ],
            [
             0.8888888888888888,
             "#fdca26"
            ],
            [
             1,
             "#f0f921"
            ]
           ],
           "sequentialminus": [
            [
             0,
             "#0d0887"
            ],
            [
             0.1111111111111111,
             "#46039f"
            ],
            [
             0.2222222222222222,
             "#7201a8"
            ],
            [
             0.3333333333333333,
             "#9c179e"
            ],
            [
             0.4444444444444444,
             "#bd3786"
            ],
            [
             0.5555555555555556,
             "#d8576b"
            ],
            [
             0.6666666666666666,
             "#ed7953"
            ],
            [
             0.7777777777777778,
             "#fb9f3a"
            ],
            [
             0.8888888888888888,
             "#fdca26"
            ],
            [
             1,
             "#f0f921"
            ]
           ]
          },
          "colorway": [
           "#636efa",
           "#EF553B",
           "#00cc96",
           "#ab63fa",
           "#FFA15A",
           "#19d3f3",
           "#FF6692",
           "#B6E880",
           "#FF97FF",
           "#FECB52"
          ],
          "font": {
           "color": "#2a3f5f"
          },
          "geo": {
           "bgcolor": "white",
           "lakecolor": "white",
           "landcolor": "#E5ECF6",
           "showlakes": true,
           "showland": true,
           "subunitcolor": "white"
          },
          "hoverlabel": {
           "align": "left"
          },
          "hovermode": "closest",
          "mapbox": {
           "style": "light"
          },
          "paper_bgcolor": "white",
          "plot_bgcolor": "#E5ECF6",
          "polar": {
           "angularaxis": {
            "gridcolor": "white",
            "linecolor": "white",
            "ticks": ""
           },
           "bgcolor": "#E5ECF6",
           "radialaxis": {
            "gridcolor": "white",
            "linecolor": "white",
            "ticks": ""
           }
          },
          "scene": {
           "xaxis": {
            "backgroundcolor": "#E5ECF6",
            "gridcolor": "white",
            "gridwidth": 2,
            "linecolor": "white",
            "showbackground": true,
            "ticks": "",
            "zerolinecolor": "white"
           },
           "yaxis": {
            "backgroundcolor": "#E5ECF6",
            "gridcolor": "white",
            "gridwidth": 2,
            "linecolor": "white",
            "showbackground": true,
            "ticks": "",
            "zerolinecolor": "white"
           },
           "zaxis": {
            "backgroundcolor": "#E5ECF6",
            "gridcolor": "white",
            "gridwidth": 2,
            "linecolor": "white",
            "showbackground": true,
            "ticks": "",
            "zerolinecolor": "white"
           }
          },
          "shapedefaults": {
           "line": {
            "color": "#2a3f5f"
           }
          },
          "ternary": {
           "aaxis": {
            "gridcolor": "white",
            "linecolor": "white",
            "ticks": ""
           },
           "baxis": {
            "gridcolor": "white",
            "linecolor": "white",
            "ticks": ""
           },
           "bgcolor": "#E5ECF6",
           "caxis": {
            "gridcolor": "white",
            "linecolor": "white",
            "ticks": ""
           }
          },
          "title": {
           "x": 0.05
          },
          "xaxis": {
           "automargin": true,
           "gridcolor": "white",
           "linecolor": "white",
           "ticks": "",
           "title": {
            "standoff": 15
           },
           "zerolinecolor": "white",
           "zerolinewidth": 2
          },
          "yaxis": {
           "automargin": true,
           "gridcolor": "white",
           "linecolor": "white",
           "ticks": "",
           "title": {
            "standoff": 15
           },
           "zerolinecolor": "white",
           "zerolinewidth": 2
          }
         }
        },
        "xaxis": {
         "anchor": "y",
         "domain": [
          0,
          1
         ],
         "title": {
          "text": "x"
         }
        },
        "yaxis": {
         "anchor": "x",
         "domain": [
          0,
          1
         ],
         "title": {
          "text": "y"
         }
        }
       }
      }
     },
     "metadata": {},
     "output_type": "display_data"
    }
   ],
   "source": [
    "x = np.arange(0, 5, 0.1)\n",
    "def f(x):\n",
    "    return x**2\n",
    "\n",
    "px.scatter(x=x, y=f(x)).show()"
   ]
  },
  {
   "cell_type": "code",
   "execution_count": 6,
   "metadata": {},
   "outputs": [
    {
     "ename": "ValueError",
     "evalue": "invalid literal for int() with base 10: ''",
     "output_type": "error",
     "traceback": [
      "\u001b[1;31m---------------------------------------------------------------------------\u001b[0m",
      "\u001b[1;31mValueError\u001b[0m                                Traceback (most recent call last)",
      "Cell \u001b[1;32mIn[6], line 1\u001b[0m\n\u001b[1;32m----> 1\u001b[0m z \u001b[38;5;241m=\u001b[39m \u001b[38;5;28;43mint\u001b[39;49m\u001b[43m(\u001b[49m\u001b[38;5;28;43minput\u001b[39;49m\u001b[43m \u001b[49m\u001b[43m(\u001b[49m\u001b[38;5;124;43m'\u001b[39;49m\u001b[38;5;124;43mВееди число\u001b[39;49m\u001b[38;5;124;43m'\u001b[39;49m\u001b[43m)\u001b[49m\u001b[43m)\u001b[49m\n\u001b[0;32m      2\u001b[0m \u001b[38;5;28;01mif\u001b[39;00m z \u001b[38;5;241m%\u001b[39m\u001b[38;5;241m3\u001b[39m\u001b[38;5;241m==\u001b[39m\u001b[38;5;241m0\u001b[39m \u001b[38;5;129;01mand\u001b[39;00m z \u001b[38;5;241m%\u001b[39m\u001b[38;5;241m5\u001b[39m\u001b[38;5;241m==\u001b[39m\u001b[38;5;241m0\u001b[39m:\n\u001b[0;32m      3\u001b[0m     \u001b[38;5;28mprint\u001b[39m (\u001b[38;5;124m'\u001b[39m\u001b[38;5;124mbuzZAP\u001b[39m\u001b[38;5;124m'\u001b[39m)\n",
      "\u001b[1;31mValueError\u001b[0m: invalid literal for int() with base 10: ''"
     ]
    }
   ],
   "source": [
    "z = int(input ('Вееди число'))\n",
    "if z %3==0 and z %5==0:\n",
    "    print ('buzZAP')\n",
    "elif z %3 == 0:\n",
    "    print ('buz')\n",
    "elif z %5 == 0:\n",
    "    print ('ZAP')\n",
    "else:\n",
    "    print('00000')"
   ]
  },
  {
   "cell_type": "code",
   "execution_count": null,
   "metadata": {},
   "outputs": [
    {
     "name": "stdout",
     "output_type": "stream",
     "text": [
      "1\n"
     ]
    }
   ],
   "source": [
    "alice_candies = 121\n",
    "bob_candies = 77\n",
    "carol_candies = 109\n",
    "\n",
    "# Your code goes here! Replace the right-hand side of this assignment with an expression\n",
    "# involving alice_candies, bob_candies, and carol_candies\n",
    "to_smash = (alice_candies+bob_candies+carol_candies)%3\n",
    "print (to_smash)"
   ]
  },
  {
   "cell_type": "code",
   "execution_count": null,
   "metadata": {},
   "outputs": [
    {
     "name": "stdout",
     "output_type": "stream",
     "text": [
      "Шесть уникальных случайных чисел в диапазоне от 1 до 64: [9, 10, 43, 41, 42, 16]\n"
     ]
    }
   ],
   "source": [
    "import random\n",
    "\n",
    "def generate_unique_numbers():\n",
    "    unique_numbers = set()\n",
    "    while len(unique_numbers) < 6:\n",
    "        unique_numbers.add(random.randint(1, 64))\n",
    "    return list(unique_numbers)\n",
    "\n",
    "random_numbers = generate_unique_numbers()\n",
    "print(\"Шесть уникальных случайных чисел в диапазоне от 1 до 64:\", random_numbers)\n"
   ]
  },
  {
   "cell_type": "code",
   "execution_count": null,
   "metadata": {},
   "outputs": [
    {
     "name": "stdout",
     "output_type": "stream",
     "text": [
      "<class 'list'>\n"
     ]
    }
   ],
   "source": [
    "items = ['строка', 1234, 3.1415]\n",
    "print(type(items)) "
   ]
  },
  {
   "cell_type": "code",
   "execution_count": null,
   "metadata": {},
   "outputs": [
    {
     "name": "stdout",
     "output_type": "stream",
     "text": [
      "58415400\n"
     ]
    }
   ],
   "source": [
    "# объявите переменную-счётчик здесь\n",
    "marks = [90, 85, 83, 92]\n",
    "# напишите ваш код здесь\n",
    "total = 1\n",
    "for m in marks:\n",
    "    total*=m\n",
    "print (total)"
   ]
  },
  {
   "cell_type": "code",
   "execution_count": null,
   "metadata": {},
   "outputs": [
    {
     "name": "stdout",
     "output_type": "stream",
     "text": [
      "0\n"
     ]
    }
   ],
   "source": [
    "movies_duration = [-142, -175, -152, -195]\n",
    "\n",
    "max_value = 0\n",
    "\n",
    "for duration in movies_duration:\n",
    "    if duration > max_value:\n",
    "        max_value = duration\n",
    "\n",
    "print(max_value) "
   ]
  },
  {
   "cell_type": "code",
   "execution_count": null,
   "metadata": {},
   "outputs": [],
   "source": [
    "number = 8 # число для нахождения факториала\n",
    "fact = 1 # начальное значение счётчика для нахождения произведения должно быть равным 1\n",
    "for i in range(1, number + 1): # в цикле перебираете индексы от 1 до number, поэтому добавляете единицу к правой границе, чтобы она была включена в диапазон\n",
    "    fact *= i # в теле цикла домножаете счётчик на очередное число, оно будет находиться в итераторе i, т.к. именно он перебирает значения последовательности\n",
    "print(fact)"
   ]
  },
  {
   "cell_type": "code",
   "execution_count": null,
   "metadata": {},
   "outputs": [
    {
     "name": "stdout",
     "output_type": "stream",
     "text": [
      "ALIENS\n",
      "ALIENS\n",
      "ALIENS\n",
      "ALIENS\n",
      "ALIENS\n",
      "ALIENS\n",
      "ALIENS\n",
      "ALIENS\n",
      "ALIENS\n",
      "ALIENS\n"
     ]
    }
   ],
   "source": [
    "for i in range(10):\n",
    "    print(\"ALIENS\")"
   ]
  },
  {
   "cell_type": "code",
   "execution_count": null,
   "metadata": {},
   "outputs": [
    {
     "name": "stdout",
     "output_type": "stream",
     "text": [
      "0\n",
      "1\n",
      "2\n",
      "3\n",
      "4\n",
      "5\n",
      "6\n",
      "7\n",
      "8\n",
      "9\n"
     ]
    }
   ],
   "source": [
    "for i in range(10):\n",
    "    print(i) "
   ]
  },
  {
   "cell_type": "code",
   "execution_count": null,
   "metadata": {},
   "outputs": [
    {
     "name": "stdout",
     "output_type": "stream",
     "text": [
      "Побег из Шоушенка                       |США                                     |1994                                    |драма                                   |142                                     |9.111                                   |Кинопоиск                               |\n",
      "Крёстный отец                           |США                                     |1972                                    |драма, криминал                         |175                                     |8.73                                    |Кинопоиск                               |\n",
      "Тёмный рыцарь                           |США                                     |2008                                    |фантастика, боевик, триллер             |152                                     |8.499                                   |Кинопоиск                               |\n",
      "Список Шиндлера                         |США                                     |1993                                    |драма                                   |195                                     |8.818                                   |Кинопоиск                               |\n",
      "Властелин колец: Возвращение Короля     |Новая Зеландия                          |2003                                    |фэнтези, приключения, драма             |201                                     |8.625                                   |Кинопоиск                               |\n",
      "Криминальное чтиво                      |США                                     |1994                                    |триллер, комедия, криминал              |154                                     |8.619                                   |Кинопоиск                               |\n",
      "Хороший, плохой, злой                   |Италия                                  |1966                                    |вестерн                                 |178                                     |8.521                                   |Кинопоиск                               |\n",
      "Бойцовский клуб                         |США                                     |1999                                    |триллер, драма, криминал                |139                                     |8.644                                   |Кинопоиск                               |\n",
      "Харакири                                |Япония                                  |1962                                    |драма, боевик, история                  |133                                     |8.106                                   |Кинопоиск                               |\n",
      "Сталкер                                 |СССР                                    |1979                                    |фантастика, драма, детектив             |163                                     |8.083                                   |Кинопоиск                               |\n",
      "Иди и смотри                            |СССР                                    |1985                                    |драма, военный                          |136                                     |8.094                                   |Кинопоиск                               |\n"
     ]
    }
   ],
   "source": [
    "movies_table = [\n",
    "    ['Побег из Шоушенка', 'США', 1994, 'драма', 142, 9.111],\n",
    "    ['Крёстный отец', 'США', 1972, 'драма, криминал', 175, 8.730],\n",
    "    ['Тёмный рыцарь', 'США', 2008, 'фантастика, боевик, триллер', 152, 8.499],\n",
    "    ['Список Шиндлера', 'США', 1993, 'драма', 195, 8.818],\n",
    "    ['Властелин колец: Возвращение Короля', 'Новая Зеландия', 2003, 'фэнтези, приключения, драма', 201, 8.625],\n",
    "    ['Криминальное чтиво', 'США', 1994, 'триллер, комедия, криминал', 154, 8.619],\n",
    "    ['Хороший, плохой, злой', 'Италия', 1966, 'вестерн', 178, 8.521],\n",
    "    ['Бойцовский клуб', 'США', 1999, 'триллер, драма, криминал', 139, 8.644],\n",
    "    ['Харакири', 'Япония', 1962, 'драма, боевик, история', 133, 8.106],\n",
    "    ['Сталкер', 'СССР', 1979, 'фантастика, драма, детектив', 163, 8.083],\n",
    "    ['Иди и смотри', 'СССР', 1985, 'драма, военный', 136, 8.094]\n",
    "]\n",
    "\n",
    "for movie in movies_table:\n",
    "    movie.append('Кинопоиск')\n",
    "\n",
    "for movie in movies_table: # для каждого списка в списке\n",
    "    for elem in movie: # перебираем элементы очередного списка\n",
    "        print(f'{elem:<40}', end='|') # выравнивание каждого элемента по левому краю с фиксированной шириной строки 45\n",
    "    print() # переводим на новую строку после вывода информации об очередном фильме"
   ]
  },
  {
   "cell_type": "code",
   "execution_count": null,
   "metadata": {},
   "outputs": [
    {
     "name": "stdout",
     "output_type": "stream",
     "text": [
      "True\n"
     ]
    }
   ],
   "source": [
    "def is_age_appropriate_two(age, threshold):\n",
    "    return age >= threshold # вернёт True или False\n",
    "\n",
    "print(is_age_appropriate_two(17, 12)) "
   ]
  },
  {
   "cell_type": "code",
   "execution_count": null,
   "metadata": {},
   "outputs": [],
   "source": [
    "import pandas as pd\n",
    "df = pd.read_csv('music_log.csv')\n",
    "\n",
    "# оставляем только те строки датафрейма, в которых указан жанр ambient\n",
    "ambient = df[df['genre'] == 'ambient']\n",
    "# сохраняем столбец-Series в отдельную переменную\n",
    "ambient_time = ambient['total play']\n",
    "# через логическую индексацию для столбца-Series получаем недослушанные треки,\n",
    "# и считаем их методом count()\n",
    "ambient_haters = ambient_time[ambient_time <= 10].count()\n",
    "print(ambient_haters)"
   ]
  },
  {
   "cell_type": "markdown",
   "metadata": {},
   "source": [
    "#Задача выдачи сдачи (из задачи https://education.yandex.ru/handbook/algorithms/article/algoritmy-i-slozhnost)"
   ]
  },
  {
   "cell_type": "code",
   "execution_count": null,
   "metadata": {},
   "outputs": [
    {
     "name": "stdout",
     "output_type": "stream",
     "text": [
      "Выданная сдача:\n",
      "3 монет номиналом 25\n",
      "0 монет номиналом 20\n",
      "0 монет номиналом 10\n",
      "0 монет номиналом 5\n",
      "2 монет номиналом 1\n"
     ]
    }
   ],
   "source": [
    "from math import floor\n",
    "\n",
    "def change(money, c, d):\n",
    "    change_given = []  # список для хранения выданных монет\n",
    "    for k in range(d):  # идем по всем доступным номиналам монет\n",
    "        i_k = money // c[k]  # находим количество монет номинала c[k], которое можно выдать\n",
    "        change_given.append((c[k], i_k))  # добавляем пару (номинал монеты, количество выданных монет) в список\n",
    "        money -= c[k] * i_k  # обновляем сумму оставшейся сдачи\n",
    "    return change_given\n",
    "\n",
    "# Пример использования:\n",
    "money = 77 # центов\n",
    "c = [25,20,10,5,1]  # доступные номиналы монет\n",
    "d = len(c)  # количество доступных номиналов\n",
    "change_result = change(money, c, d)\n",
    "print(\"Выданная сдача:\")\n",
    "for coin, count in change_result:\n",
    "    print(f\"{count} монет номиналом {coin}\")\n"
   ]
  },
  {
   "cell_type": "markdown",
   "metadata": {},
   "source": [
    "#Задача Выведите число перестановок P(n)\n",
    "\n",
    "Число перестановок P(n) для числа n равно факториалу этого числа n!."
   ]
  },
  {
   "cell_type": "code",
   "execution_count": null,
   "metadata": {},
   "outputs": [
    {
     "name": "stdout",
     "output_type": "stream",
     "text": [
      "24\n"
     ]
    }
   ],
   "source": [
    "def factorial(n):\n",
    "    if n == 0 or n == 1:\n",
    "        return 1\n",
    "    else:\n",
    "        return n * factorial(n-1)\n",
    "\n",
    "n = int(input())\n",
    "permutations = factorial(n)\n",
    "print(permutations)\n"
   ]
  },
  {
   "cell_type": "code",
   "execution_count": null,
   "metadata": {},
   "outputs": [
    {
     "name": "stdout",
     "output_type": "stream",
     "text": [
      "1\n"
     ]
    }
   ],
   "source": [
    "def factorial(n):\n",
    "    if n == 0 or n == 1:\n",
    "        return 1\n",
    "    else:\n",
    "        return n * factorial(n-1)\n",
    "\n",
    "def combinations(n, k):\n",
    "    return factorial(n) // (factorial(k) * factorial(n - k))\n",
    "\n",
    "n, k = map(int, input().split())\n",
    "print(combinations(n, k))\n"
   ]
  },
  {
   "cell_type": "code",
   "execution_count": 7,
   "metadata": {},
   "outputs": [
    {
     "data": {
      "image/png": "[encoded data removed]",
      "text/plain": [
       "<Figure size 640x480 with 1 Axes>"
      ]
     },
     "metadata": {},
     "output_type": "display_data"
    }
   ],
   "source": [
    "import matplotlib.pyplot as plt\n",
    "\n",
    "# Пример данных\n",
    "x = [1, 2, 3, 4, 5]\n",
    "y1 = [1, 4, 9, 16, 25]\n",
    "y2 = [1, 8, 27, 64, 125]\n",
    "\n",
    "# Создание графика\n",
    "plt.plot(x, y1, label='y = x^2', marker='o')\n",
    "plt.plot(x, y2, label='y = x^3', marker='s')\n",
    "\n",
    "# Добавление текста на график для легенды\n",
    "for i, (xi, yi1, yi2) in enumerate(zip(x, y1, y2)):\n",
    "    plt.text(xi, yi1, f'y=x^2 ({yi1})', fontsize=9, ha='right')\n",
    "    plt.text(xi, yi2, f'y=x^3 ({yi2})', fontsize=9, ha='right')\n",
    "\n",
    "# Настройка осей и заголовка\n",
    "plt.xlabel('X-axis')\n",
    "plt.ylabel('Y-axis')\n",
    "plt.title('Example Plot with Legend Values on Graph')\n",
    "\n",
    "# Показать график\n",
    "plt.show()"
   ]
  },
  {
   "cell_type": "code",
   "execution_count": 1,
   "metadata": {},
   "outputs": [
    {
     "name": "stdout",
     "output_type": "stream",
     "text": [
      "Requirement already satisfied: yellowbrick in c:\\users\\borodulinav\\downloads\\111\\.venv\\lib\\site-packages (1.5)\n",
      "Requirement already satisfied: matplotlib!=3.0.0,>=2.0.2 in c:\\users\\borodulinav\\downloads\\111\\.venv\\lib\\site-packages (from yellowbrick) (3.7.4)\n",
      "Requirement already satisfied: scipy>=1.0.0 in c:\\users\\borodulinav\\downloads\\111\\.venv\\lib\\site-packages (from yellowbrick) (1.11.4)\n",
      "Requirement already satisfied: scikit-learn>=1.0.0 in c:\\users\\borodulinav\\downloads\\111\\.venv\\lib\\site-packages (from yellowbrick) (1.4.1.post1)\n",
      "Requirement already satisfied: numpy>=1.16.0 in c:\\users\\borodulinav\\downloads\\111\\.venv\\lib\\site-packages (from yellowbrick) (1.24.4)\n",
      "Requirement already satisfied: cycler>=0.10.0 in c:\\users\\borodulinav\\downloads\\111\\.venv\\lib\\site-packages (from yellowbrick) (0.12.1)\n",
      "Requirement already satisfied: contourpy>=1.0.1 in c:\\users\\borodulinav\\downloads\\111\\.venv\\lib\\site-packages (from matplotlib!=3.0.0,>=2.0.2->yellowbrick) (1.2.1)\n",
      "Requirement already satisfied: fonttools>=4.22.0 in c:\\users\\borodulinav\\downloads\\111\\.venv\\lib\\site-packages (from matplotlib!=3.0.0,>=2.0.2->yellowbrick) (4.51.0)\n",
      "Requirement already satisfied: kiwisolver>=1.0.1 in c:\\users\\borodulinav\\downloads\\111\\.venv\\lib\\site-packages (from matplotlib!=3.0.0,>=2.0.2->yellowbrick) (1.4.5)\n",
      "Requirement already satisfied: packaging>=20.0 in c:\\users\\borodulinav\\downloads\\111\\.venv\\lib\\site-packages (from matplotlib!=3.0.0,>=2.0.2->yellowbrick) (24.0)\n",
      "Requirement already satisfied: pillow>=6.2.0 in c:\\users\\borodulinav\\downloads\\111\\.venv\\lib\\site-packages (from matplotlib!=3.0.0,>=2.0.2->yellowbrick) (10.3.0)\n",
      "Requirement already satisfied: pyparsing>=2.3.1 in c:\\users\\borodulinav\\downloads\\111\\.venv\\lib\\site-packages (from matplotlib!=3.0.0,>=2.0.2->yellowbrick) (3.1.2)\n",
      "Requirement already satisfied: python-dateutil>=2.7 in c:\\users\\borodulinav\\downloads\\111\\.venv\\lib\\site-packages (from matplotlib!=3.0.0,>=2.0.2->yellowbrick) (2.9.0.post0)\n",
      "Requirement already satisfied: joblib>=1.2.0 in c:\\users\\borodulinav\\downloads\\111\\.venv\\lib\\site-packages (from scikit-learn>=1.0.0->yellowbrick) (1.3.2)\n",
      "Requirement already satisfied: threadpoolctl>=2.0.0 in c:\\users\\borodulinav\\downloads\\111\\.venv\\lib\\site-packages (from scikit-learn>=1.0.0->yellowbrick) (3.4.0)\n",
      "Requirement already satisfied: six>=1.5 in c:\\users\\borodulinav\\downloads\\111\\.venv\\lib\\site-packages (from python-dateutil>=2.7->matplotlib!=3.0.0,>=2.0.2->yellowbrick) (1.16.0)\n"
     ]
    }
   ],
   "source": [
    "!pip install yellowbrick"
   ]
  },
  {
   "cell_type": "code",
   "execution_count": 1,
   "metadata": {},
   "outputs": [
    {
     "data": {
      "image/png": "[encoded data removed]",
      "text/plain": [
       "<Figure size 800x600 with 2 Axes>"
      ]
     },
     "metadata": {},
     "output_type": "display_data"
    }
   ],
   "source": [
    "# Создадим тепловую карту взаимосвязей между горячими и холодными номерами заново.\n",
    "\n",
    "import matplotlib.pyplot as plt\n",
    "import seaborn as sns\n",
    "import numpy as np\n",
    "\n",
    "# Горячие и холодные номера\n",
    "hot_numbers_first = [8, 9, 2, 5]\n",
    "cold_numbers_first = [13, 15, 18, 19]\n",
    "\n",
    "hot_numbers_second = [20, 1, 4, 10]\n",
    "cold_numbers_second = [9, 6, 2, 17]\n",
    "\n",
    "# Создаем матрицу взаимосвязей\n",
    "numbers_matrix = np.zeros((len(hot_numbers_first + cold_numbers_first), len(hot_numbers_second + cold_numbers_second)))\n",
    "\n",
    "# Заполняем матрицу (условно: 1 для горячие-горячие, 0.5 для горячие-холодные, 0.1 для холодные-холодные)\n",
    "for i in range(len(hot_numbers_first)):\n",
    "    for j in range(len(hot_numbers_second)):\n",
    "        numbers_matrix[i, j] = 1  # Горячие номера обоих полей\n",
    "    for j in range(len(cold_numbers_second)):\n",
    "        numbers_matrix[i, len(hot_numbers_second) + j] = 0.5  # Горячие из первого и холодные из второго\n",
    "\n",
    "for i in range(len(cold_numbers_first)):\n",
    "    for j in range(len(hot_numbers_second)):\n",
    "        numbers_matrix[len(hot_numbers_first) + i, j] = 0.5  # Холодные из первого и горячие из второго\n",
    "    for j in range(len(cold_numbers_second)):\n",
    "        numbers_matrix[len(hot_numbers_first) + i, len(hot_numbers_second) + j] = 0.1  # Холодные номера обоих полей\n",
    "\n",
    "# Метки осей\n",
    "y_labels = hot_numbers_first + cold_numbers_first\n",
    "x_labels = hot_numbers_second + cold_numbers_second\n",
    "\n",
    "# Построим тепловую карту\n",
    "plt.figure(figsize=(8, 6))\n",
    "sns.heatmap(numbers_matrix, annot=True, xticklabels=x_labels, yticklabels=y_labels, cmap='coolwarm', cbar_kws={'label': 'Взаимосвязь'})\n",
    "plt.title('Тепловая карта взаимосвязи горячих и холодных номеров')\n",
    "plt.xlabel('Номера второго поля')\n",
    "plt.ylabel('Номера первого поля')\n",
    "plt.show()\n"
   ]
  }
 ],
 "metadata": {
  "kernelspec": {
   "display_name": ".venv",
   "language": "python",
   "name": "python3"
  },
  "language_info": {
   "codemirror_mode": {
    "name": "ipython",
    "version": 3
   },
   "file_extension": ".py",
   "mimetype": "text/x-python",
   "name": "python",
   "nbconvert_exporter": "python",
   "pygments_lexer": "ipython3",
   "version": "3.11.9"
  }
 },
 "nbformat": 4,
 "nbformat_minor": 2
}
