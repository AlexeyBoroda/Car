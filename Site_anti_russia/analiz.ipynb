{
 "cells": [
  {
   "cell_type": "code",
   "execution_count": 3,
   "metadata": {},
   "outputs": [
    {
     "name": "stdout",
     "output_type": "stream",
     "text": [
      "<class 'pandas.core.frame.DataFrame'>\n",
      "RangeIndex: 26 entries, 0 to 25\n",
      "Data columns (total 8 columns):\n",
      " #   Column                       Non-Null Count  Dtype  \n",
      "---  ------                       --------------  -----  \n",
      " 0   Источник трафика             26 non-null     object \n",
      " 1   Источник трафика (детально)  26 non-null     object \n",
      " 2   Тип площадки                 26 non-null     object \n",
      " 3   Визиты                       26 non-null     int64  \n",
      " 4   Посетители                   26 non-null     int64  \n",
      " 5   Отказы                       26 non-null     float64\n",
      " 6   Глубина просмотра            26 non-null     float64\n",
      " 7   Время на сайте               26 non-null     object \n",
      "dtypes: float64(2), int64(2), object(4)\n",
      "memory usage: 1.8+ KB\n"
     ]
    },
    {
     "data": {
      "text/plain": [
       "array(['Переходы из поисковых систем', 'Прямые заходы',\n",
       "       'Внутренние переходы', 'Переходы по ссылкам на сайтах',\n",
       "       'Переходы из социальных сетей', 'Переходы из мессенджеров',\n",
       "       'Переходы с сохранённых страниц', 'Не определено'], dtype=object)"
      ]
     },
     "execution_count": 3,
     "metadata": {},
     "output_type": "execute_result"
    }
   ],
   "source": [
    "import pandas as pd\n",
    "#df = pd.read_csv('anti-russian-sanctions.ru-Посещаемость.csv')\n",
    "df = pd.read_csv('anti-russian-sanctions.ru-Источники,_сводка.csv')\n",
    "#df = pd.read_csv('anti-russian-sanctions.ru-Поисковые_запросы.csv')\n",
    "df.info()\n",
    "df.head(100)\n"
   ]
  }
 ],
 "metadata": {
  "kernelspec": {
   "display_name": ".venv",
   "language": "python",
   "name": "python3"
  },
  "language_info": {
   "codemirror_mode": {
    "name": "ipython",
    "version": 3
   },
   "file_extension": ".py",
   "mimetype": "text/x-python",
   "name": "python",
   "nbconvert_exporter": "python",
   "pygments_lexer": "ipython3",
   "version": "3.11.9"
  }
 },
 "nbformat": 4,
 "nbformat_minor": 2
}
