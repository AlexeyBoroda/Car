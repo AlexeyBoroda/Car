{
 "cells": [
  {
   "cell_type": "markdown",
   "id": "86d06000-7ab4-4527-a3a9-2d28ba60ae74",
   "metadata": {},
   "source": [
    "# Блокировка и разблокировка флэшки от записи или форматирования."
   ]
  },
  {
   "cell_type": "markdown",
   "id": "fe023c81-6749-40b0-8a50-ac5ac2876453",
   "metadata": {},
   "source": [
    "##   Описание\n",
    "\n",
    "* Вы можете сделать флешку доступной только для чтения:\n",
    "* Откройте командную строку от имени администратора.\n",
    "Введите:\n",
    "\n",
    "diskpart\n",
    "list disk\n",
    "select disk 1\n",
    "attributes disk set readonly\n",
    "\n",
    "* Чтобы снять защиту:\n",
    "  \n",
    "diskpart\n",
    "list disk\n",
    "select disk 1\n",
    "attributes disk clear readonly\n"
   ]
  },
  {
   "cell_type": "code",
   "execution_count": 12,
   "id": "ffaf9c55-a1ad-4aa4-aa95-4dc8bcfa47c8",
   "metadata": {
    "execution": {
     "iopub.execute_input": "2024-11-18T10:27:36.446881Z",
     "iopub.status.busy": "2024-11-18T10:27:36.446881Z",
     "iopub.status.idle": "2024-11-18T10:27:36.493049Z",
     "shell.execute_reply": "2024-11-18T10:27:36.492041Z",
     "shell.execute_reply.started": "2024-11-18T10:27:36.446881Z"
    }
   },
   "outputs": [
    {
     "name": "stdout",
     "output_type": "stream",
     "text": [
      "laptop-03bliklk\\borodulinav\n",
      "\n"
     ]
    }
   ],
   "source": [
    "import subprocess\n",
    "\n",
    "# Выполняем команду whoami и выводим результат\n",
    "result = subprocess.check_output(\"whoami\", shell=True, text=True)\n",
    "print(result)\n",
    "\n"
   ]
  },
  {
   "cell_type": "code",
   "execution_count": null,
   "id": "7403a2a9-081a-4088-8ad3-930b1f6165dc",
   "metadata": {
    "execution": {
     "iopub.execute_input": "2024-11-18T10:27:40.681211Z",
     "iopub.status.busy": "2024-11-18T10:27:40.679737Z"
    }
   },
   "outputs": [],
   "source": [
    "import os\n",
    "import tkinter as tk\n",
    "from tkinter import messagebox\n",
    "\n",
    "# Создаем функцию для запуска интерфейса\n",
    "def run_tkinter_app():\n",
    "    # Функция для выполнения команд diskpart\n",
    "    def run_diskpart_command(command):\n",
    "        try:\n",
    "            # Создаем временный файл с командами для diskpart\n",
    "            with open(\"diskpart_script.txt\", \"w\") as script_file:\n",
    "                script_file.write(command)\n",
    "            \n",
    "            # Выполняем diskpart с указанием файла команд\n",
    "            os.system(\"diskpart /s diskpart_script.txt\")\n",
    "            # Удаляем временный файл\n",
    "            os.remove(\"diskpart_script.txt\")\n",
    "            \n",
    "            # Уведомляем пользователя\n",
    "            messagebox.showinfo(\"Успех\", \"Команда выполнена успешно!\")\n",
    "        except Exception as e:\n",
    "            messagebox.showerror(\"Ошибка\", f\"Произошла ошибка: {e}\")\n",
    "\n",
    "    # Функция для блокировки диска\n",
    "    def lock_disk():\n",
    "        command = \"list disk\\nselect disk 1\\nattributes disk set readonly\\n\"\n",
    "        run_diskpart_command(command)\n",
    "\n",
    "    # Функция для разблокировки диска\n",
    "    def unlock_disk():\n",
    "        command = \"list disk\\nselect disk 1\\nattributes disk clear readonly\\n\"\n",
    "        run_diskpart_command(command)\n",
    "\n",
    "    # Создаем графический интерфейс\n",
    "    root = tk.Tk()\n",
    "    root.title(\"Управление диском\")\n",
    "\n",
    "    # Кнопка \"Заблокировать\"\n",
    "    lock_button = tk.Button(root, text=\"Заблокировать\", command=lock_disk, bg=\"red\", fg=\"white\", font=(\"Arial\", 14))\n",
    "    lock_button.pack(pady=10)\n",
    "\n",
    "    # Кнопка \"Разблокировать\"\n",
    "    unlock_button = tk.Button(root, text=\"Разблокировать\", command=unlock_disk, bg=\"green\", fg=\"white\", font=(\"Arial\", 14))\n",
    "    unlock_button.pack(pady=10)\n",
    "\n",
    "    # Запуск интерфейса\n",
    "    root.mainloop()\n",
    "\n",
    "# Запуск программы из Jupyter\n",
    "run_tkinter_app()"
   ]
  },
  {
   "cell_type": "code",
   "execution_count": null,
   "id": "954f6999-379f-4f91-8601-53d53547e5a2",
   "metadata": {},
   "outputs": [],
   "source": []
  }
 ],
 "metadata": {
  "kernelspec": {
   "display_name": "Python 3 (ipykernel)",
   "language": "python",
   "name": "python3"
  },
  "language_info": {
   "codemirror_mode": {
    "name": "ipython",
    "version": 3
   },
   "file_extension": ".py",
   "mimetype": "text/x-python",
   "name": "python",
   "nbconvert_exporter": "python",
   "pygments_lexer": "ipython3",
   "version": "3.12.7"
  }
 },
 "nbformat": 4,
 "nbformat_minor": 5
}
